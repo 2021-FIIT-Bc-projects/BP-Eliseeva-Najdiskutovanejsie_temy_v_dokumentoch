{
  "nbformat": 4,
  "nbformat_minor": 0,
  "metadata": {
    "colab": {
      "name": "Bakalarka.ipynb",
      "provenance": [],
      "collapsed_sections": [],
      "authorship_tag": "ABX9TyMfOv0fN9NilFK96WObrOeG",
      "include_colab_link": true
    },
    "kernelspec": {
      "name": "python3",
      "display_name": "Python 3"
    },
    "language_info": {
      "name": "python"
    }
  },
  "cells": [
    {
      "cell_type": "markdown",
      "metadata": {
        "id": "view-in-github",
        "colab_type": "text"
      },
      "source": [
        "<a href=\"https://colab.research.google.com/github/2021-FIIT-Bc-projects/BP-Eliseeva-Najdiskutovanejsie_temy_v_dokumentoch/blob/main/Bakalarka.ipynb\" target=\"_parent\"><img src=\"https://colab.research.google.com/assets/colab-badge.svg\" alt=\"Open In Colab\"/></a>"
      ]
    },
    {
      "cell_type": "code",
      "metadata": {
        "id": "8BN12rZBFmBA"
      },
      "source": [
        "import gensim\n",
        "import nltk\n",
        "import pandas as pd\n",
        "import numpy as np\n",
        "import re\n",
        "import collections\n",
        "import itertools\n",
        "\n",
        "from gensim import corpora\n",
        "from sklearn.datasets import fetch_20newsgroups\n",
        "from wordcloud import WordCloud\n",
        "from nltk.corpus import stopwords\n",
        "from pprint import pprint\n",
        "from gensim.models import CoherenceModel\n",
        "\n",
        "import matplotlib.pyplot as plt\n",
        "import spacy"
      ],
      "execution_count": 36,
      "outputs": []
    },
    {
      "cell_type": "code",
      "metadata": {
        "colab": {
          "base_uri": "https://localhost:8080/"
        },
        "id": "XAnuOMg-Fo74",
        "outputId": "0bb772cc-dcb1-4a84-d10c-95953c8f0254"
      },
      "source": [
        "nltk.download('stopwords')\n",
        "stop_words = stopwords.words('english')\n",
        "stop_words.extend(['bhjn', 'a', 'able', 'about', 'above', 'abst', 'accordance', 'according', 'accordingly', 'across', 'act', 'actually', 'added', 'adj', 'after', 'afterwards', 'again', 'against', 'ah', 'all', 'almost', 'alone', 'along', 'already', 'also', 'although', 'always', 'am', 'among', 'amongst', 'an', 'and', 'another', 'any', 'anybody', 'anyhow', 'anymore', 'anyone', 'anything', 'anyway', 'anyways', 'anywhere', 'apparently', 'are', 'aren', 'arent', 'arise', 'around', 'as', 'aside', 'ask', 'asking', 'at', 'auth', 'awfully', 'b', 'back', 'be', 'became', 'because', 'become', 'becomes', 'becoming', 'been', 'before', 'beforehand', 'begin', 'beginning', 'beginnings', 'begins', 'behind', 'being', 'below', 'beside', 'besides', 'between', 'beyond', 'biol', 'both', 'briefly', 'but', 'by', 'c', 'ca', 'came', 'can', 'cannot', 'cant', 'co', 'com', 'come', 'comes', 'could', 'couldnt', 'd', 'date', 'did', 'didnt', 'different', 'do', 'does', 'doesnt', 'doing', 'done', 'dont', 'down', 'downwards', 'due', 'during', 'e', 'each', 'ed', 'edu', 'eg', 'eight', 'eighty', 'either', 'else', 'elsewhere', 'end', 'ending', 'enough', 'et', 'etc', 'even', 'ever', 'every', 'everybody', 'everyone', 'everything', 'everywhere', 'ex', 'except', 'f', 'far', 'few', 'ff', 'fifth', 'first', 'five', 'fix', 'followed', 'following', 'follows', 'for', 'former', 'formerly', 'forth', 'found', 'four', 'from', 'further', 'furthermore', 'g', 'gave', 'get', 'gets', 'getting', 'give', 'given', 'gives', 'giving', 'go', 'goes', 'gone', 'got', 'gotten', 'h', 'had', 'happens', 'hardly', 'has', 'hasnt', 'have', 'havent', 'having', 'he', 'hed', 'hence', 'her', 'here', 'hereafter', 'hereby', 'herein', 'heres', 'hereupon', 'hers', 'herself', 'hes', 'hi', 'hid', 'him', 'himself', 'his', 'hither', 'home', 'how', 'howbeit', 'however', 'hundred', 'i', 'id', 'ie', 'if', 'im', 'immediate', 'in', 'inc', 'indeed', 'index', 'instead', 'into', 'invention', 'inward', 'is', 'isnt', 'it', 'itd', 'itll', 'its', 'itself', 'j', 'just', 'k', 'keep',\t'keeps', 'kept', 'kg', 'km', 'know', 'known', 'knows', 'l', 'largely', 'last', 'lately', 'later', 'latter', 'latterly', 'least', 'less', 'lest', 'let', 'lets', 'like', 'liked', 'likely', 'line', 'little', 'll', 'look', 'looking', 'looks', 'ltd', 'm', 'made', 'mainly', 'make', 'makes', 'many', 'may', 'maybe', 'me', 'mean', 'means', 'meantime', 'meanwhile', 'merely', 'mg', 'might', 'million', 'miss', 'ml', 'more', 'moreover', 'most', 'mostly', 'mr', 'mrs', 'much', 'mug', 'must', 'my', 'myself', 'n', 'na', 'name', 'namely', 'nay', 'nd', 'near', 'nearly', 'need', 'needs', 'neither', 'never', 'nevertheless', 'new', 'next', 'nine', 'ninety', 'no', 'nobody', 'non', 'none', 'nonetheless', 'noone', 'nor', 'nos', 'not', 'nothing', 'now', 'nowhere', 'o', 'obviously', 'of', 'off', 'often', 'oh', 'ok', 'okay', 'old', 'on', 'once', 'one', 'ones', 'only', 'onto', 'or', 'ord', 'other', 'others', 'otherwise', 'ought', 'our', 'ours', 'ourselves', 'out', 'over', 'overall', 'owing', 'own', 'p', 'page', 'pages', 'part', 'past', 'per', 'perhaps', 'placed', 'please', 'plus', 'pp', 'predominantly', 'previously', 'probably', 'promptly', 'put', 'q', 'que', 'quickly', 'quite', 'qv', 'r', 'ran', 'rather', 'rd', 're', 'readily', 'really', 'ref', 'refs', 'regarding', 'regardless', 'regards', 'right', 'run', 's', 'said', 'same', 'saw', 'say', 'saying', 'says', 'sec', 'see', 'seeing', 'seem', 'seemed', 'seeming', 'seems', 'seen', 'self', 'selves', 'sent', 'seven', 'shall', 'she', 'shed', 'shell', 'shes', 'should', 'shouldnt', 'show', 'showed', 'shown', 'showns', 'shows', 'since', 'six', 'slightly', 'so', 'some', 'somebody', 'somehow', 'someone', 'somethan', 'something', 'sometime', 'sometimes', 'somewhat', 'somewhere', 'soon', 'still', 'stop', 'strongly', 'sub', 'such', 'sufficiently', 'suggest', 'sup', 'sure\tt', 'take', 'taken', 'taking', 'tell', 'tends', 'th', 'than', 'thank', 'thanks', 'thanx', 'that', 'thatll', 'thats', 'thatve', 'the', 'their', 'theirs', 'them', 'themselves', 'then', 'thence', 'there', 'thereafter', 'thereby', 'thered', 'therefore', 'therein', 'therell', 'thereof', 'therere', 'theres', 'thereto', 'thereupon', 'thereve', 'these', 'they', 'theyd', 'theyll', 'theyre', 'theyve', 'think', 'this', 'those', 'thou', 'though', 'thoughh', 'thousand', 'throug', 'through', 'throughout', 'thru', 'thus', 'til', 'tip', 'to', 'together', 'too', 'took', 'toward', 'towards', 'tried', 'tries', 'try', 'trying', 'ts', 'twice', 'two', 'u', 'un', 'under', 'unfortunately', 'unless', 'unlike', 'unlikely', 'until', 'unto', 'up', 'upon', 'ups', 'us', 'use', 'used', 'useful', 'usefully', 'usefulness', 'uses', 'using', 'usually', 'v', 'value', 've', 'very', 'via', 'viz', 'vol', 'vols', 'vs', 'w', 'want', 'wants', 'was', 'wasnt', 'way', 'we', 'wed', 'well', 'went', 'were', 'werent', 'weve', 'what', 'whatever', 'whatll', 'whats', 'when', 'whence', 'whenever', 'where', 'whereafter', 'whereas', 'whereby', 'wherein', 'wheres', 'whereupon', 'wherever', 'whether', 'which', 'while', 'whim', 'whither', 'who', 'whod', 'whoever', 'whole', 'wholl', 'whom', 'whomever', 'whos', 'whose', 'why', 'widely', 'willing', 'wish', 'with', 'within', 'without', 'wont', 'words', 'would', 'wouldnt', 'www', 'x', 'y', 'yes', 'yet', 'you', 'youd', 'youll', 'your', 'youre', 'yours', 'yourself', 'yourselves', 'youve', 'z', 'zero'])\n",
        "nlp = spacy.load('en_core_web_sm', disable=['parser', 'ner'])"
      ],
      "execution_count": 37,
      "outputs": [
        {
          "output_type": "stream",
          "name": "stdout",
          "text": [
            "[nltk_data] Downloading package stopwords to /root/nltk_data...\n",
            "[nltk_data]   Package stopwords is already up-to-date!\n"
          ]
        }
      ]
    },
    {
      "cell_type": "code",
      "metadata": {
        "id": "EK7e-h1HFrDA"
      },
      "source": [
        "def ShowWordCloud(data):\n",
        "    long_string = ','.join(list(data.values))\n",
        "    # Create a WordCloud object\n",
        "    wordcloud = WordCloud(background_color=\"white\", max_words=5000, max_font_size=60).generate(long_string)\n",
        "\n",
        "    plt.figure()\n",
        "    plt.imshow(wordcloud, interpolation=\"bilinear\")\n",
        "    plt.axis(\"off\")\n",
        "    plt.show()\n",
        "\n",
        "\n",
        "def sent_to_words(sentences):\n",
        "    for sentence in sentences:\n",
        "        yield gensim.utils.simple_preprocess(str(sentence), deacc=True)\n",
        "\n",
        "\n",
        "def remove_stopwords_spacy(texts):\n",
        "  filtered_texts = []\n",
        "  for text in texts:\n",
        "    filtered_sentence = [] \n",
        "    for word in text:\n",
        "        lexeme = nlp.vocab[word]\n",
        "        if lexeme.is_stop == False:\n",
        "            filtered_sentence.append(word)\n",
        "    filtered_texts.append(filtered_sentence)\n",
        "  return filtered_texts\n",
        "\n",
        "def remove_stopwords_nltk(texts):\n",
        "  return [[word for word in gensim.utils.simple_preprocess(str(doc)) if word not in stop_words] for doc in texts]\n",
        "\n",
        "def twenty_newsgroup_to_list():\n",
        "    newsgroups_train = fetch_20newsgroups(subset='train', remove=('headers', 'footers', 'quotes'))\n",
        "    data = {'texts': newsgroups_train.data, 'topic_names': newsgroups_train['target_names'], 'topics_assigned': newsgroups_train['target']}\n",
        "    return data"
      ],
      "execution_count": 38,
      "outputs": []
    },
    {
      "cell_type": "code",
      "metadata": {
        "id": "oCBPbqkpFt_4",
        "colab": {
          "base_uri": "https://localhost:8080/"
        },
        "outputId": "dfc90747-5b6b-4a13-a353-d9f2520e0b2d"
      },
      "source": [
        "papers = twenty_newsgroup_to_list()\n",
        "papers['texts_processed'] = [re.sub('[ \\t\\n\\r\\f\\v]', \" \", text) for text in papers['texts']]\n",
        "papers['texts_processed'] = [re.sub(r\"\\S*@\\S*\\s?\", \"\", text) for text in papers['texts_processed']]\n",
        "# print(papers['texts'][2])\n",
        "# print(papers['texts_processed'][2])\n",
        "data_words = list(sent_to_words(papers['texts_processed']))\n",
        "data_words_nostops = remove_stopwords_spacy(data_words)\n",
        "# print(data_words[2])\n",
        "print(data_words_nostops[2])\n",
        "print(remove_stopwords_nltk(data_words)[2])"
      ],
      "execution_count": 39,
      "outputs": [
        {
          "output_type": "stream",
          "name": "stdout",
          "text": [
            "['folks', 'mac', 'plus', 'finally', 'gave', 'ghost', 'weekend', 'starting', 'life', 'way', 'sooo', 'market', 'new', 'machine', 'bit', 'sooner', 'intended', 'looking', 'picking', 'powerbook', 'maybe', 'bunch', 'questions', 'hopefully', 'somebody', 'answer', 'anybody', 'know', 'dirt', 'round', 'powerbook', 'introductions', 'expected', 'heard', 'supposed', 'appearence', 'summer', 'haven', 'heard', 'anymore', 'don', 'access', 'macleak', 'wondering', 'anybody', 'info', 'anybody', 'heard', 'rumors', 'price', 'drops', 'powerbook', 'line', 'like', 'ones', 'duo', 'went', 'recently', 'impression', 'display', 'probably', 'swing', 'got', 'mb', 'disk', 'don', 'feel', 'better', 'display', 'yea', 'looks', 'great', 'store', 'wow', 'good', 'solicit', 'opinions', 'people', 'use', 'day', 'day', 'worth', 'taking', 'disk', 'size', 'money', 'hit', 'active', 'display', 'realize', 'real', 'subjective', 'question', 've', 'played', 'machines', 'computer', 'store', 'breifly', 'figured', 'opinions', 'somebody', 'actually', 'uses', 'machine', 'daily', 'prove', 'helpful', 'hellcats', 'perform', 'thanks', 'bunch', 'advance', 'info', 'email', 'll', 'post', 'summary', 'news', 'reading', 'time', 'premium', 'finals', 'corner', 'tom', 'willis', 'purdue', 'electrical', 'engineering']\n",
            "['folks', 'mac', 'finally', 'ghost', 'weekend', 'starting', 'life', 'sooo', 'market', 'machine', 'bit', 'sooner', 'intended', 'picking', 'powerbook', 'bunch', 'questions', 'hopefully', 'answer', 'dirt', 'round', 'powerbook', 'introductions', 'expected', 'heard', 'supposed', 'appearence', 'summer', 'heard', 'access', 'macleak', 'wondering', 'info', 'heard', 'rumors', 'price', 'drops', 'powerbook', 'duo', 'recently', 'impression', 'display', 'swing', 'mb', 'disk', 'feel', 'better', 'display', 'yea', 'great', 'store', 'wow', 'good', 'solicit', 'opinions', 'people', 'day', 'day', 'worth', 'disk', 'size', 'money', 'hit', 'active', 'display', 'realize', 'real', 'subjective', 'question', 'played', 'machines', 'computer', 'store', 'breifly', 'figured', 'opinions', 'machine', 'daily', 'prove', 'helpful', 'hellcats', 'perform', 'bunch', 'advance', 'info', 'email', 'post', 'summary', 'news', 'reading', 'time', 'premium', 'finals', 'corner', 'tom', 'willis', 'purdue', 'electrical', 'engineering']\n"
          ]
        }
      ]
    },
    {
      "cell_type": "code",
      "metadata": {
        "id": "ElksQQPOF4AZ"
      },
      "source": [
        "bigram = gensim.models.Phrases(data_words_nostops)\n",
        "\n",
        "bigram_mod = gensim.models.phrases.Phraser(bigram)\n",
        "data_bigrams = [bigram_mod[text] for text in data_words_nostops]"
      ],
      "execution_count": 44,
      "outputs": []
    },
    {
      "cell_type": "code",
      "metadata": {
        "id": "Nfr0TUN1h3cj"
      },
      "source": [
        "data_lemmatized = []\n",
        "for text in data_bigrams:\n",
        "    doc = nlp(\" \".join(text))\n",
        "    data_lemmatized.append([token.lemma_ for token in doc if token.pos_ in ['NOUN', 'ADJ', 'VERB', 'ADV']])"
      ],
      "execution_count": 45,
      "outputs": []
    },
    {
      "cell_type": "code",
      "metadata": {
        "colab": {
          "base_uri": "https://localhost:8080/"
        },
        "id": "y9D_9J3qF6GE",
        "outputId": "3a013b52-ee4d-4763-90bb-59bbcece5951"
      },
      "source": [
        "id2word = corpora.Dictionary(data_lemmatized)\n",
        "\n",
        "print(len(id2word))\n",
        "id2word.filter_extremes(no_above=0.5, no_below=5)\n",
        "print(len(id2word))\n",
        "\n",
        "corpus = [id2word.doc2bow(text) for text in data_lemmatized]"
      ],
      "execution_count": 46,
      "outputs": [
        {
          "output_type": "stream",
          "name": "stdout",
          "text": [
            "34359\n",
            "8844\n"
          ]
        }
      ]
    },
    {
      "cell_type": "code",
      "metadata": {
        "colab": {
          "base_uri": "https://localhost:8080/"
        },
        "id": "biF11NuJL4_r",
        "outputId": "1a3ae144-51b1-40af-cbda-8a45008c4f10"
      },
      "source": [
        "lda_model = gensim.models.ldamodel.LdaModel(corpus=corpus,\n",
        "                                           id2word=id2word,\n",
        "                                           num_topics=20, \n",
        "                                           random_state=100,\n",
        "                                           chunksize=100,\n",
        "                                           passes=10)\n",
        "pprint(lda_model.print_topics())\n",
        "#perplexity\n",
        "print(lda_model.log_perplexity(corpus))\n",
        "#coherence\n",
        "coherence_model_lda = CoherenceModel(model=lda_model, texts=data_lemmatized, dictionary=id2word, coherence='c_v')\n",
        "print(coherence_model_lda.get_coherence())"
      ],
      "execution_count": 49,
      "outputs": [
        {
          "output_type": "stream",
          "name": "stdout",
          "text": [
            "[(0,\n",
            "  '0.024*\"send\" + 0.023*\"thank\" + 0.023*\"list\" + 0.023*\"post\" + '\n",
            "  '0.019*\"include\" + 0.018*\"mail\" + 0.018*\"information\" + 0.017*\"copy\" + '\n",
            "  '0.016*\"source\" + 0.015*\"line\"'),\n",
            " (1,\n",
            "  '0.032*\"law\" + 0.022*\"book\" + 0.022*\"issue\" + 0.017*\"die\" + 0.017*\"case\" + '\n",
            "  '0.016*\"public\" + 0.013*\"state\" + 0.013*\"person\" + 0.012*\"concern\" + '\n",
            "  '0.012*\"self\"'),\n",
            " (2,\n",
            "  '0.031*\"use\" + 0.025*\"system\" + 0.023*\"window\" + 0.021*\"card\" + 0.019*\"need\" '\n",
            "  '+ 0.018*\"bit\" + 0.017*\"problem\" + 0.016*\"run\" + 0.015*\"set\" + '\n",
            "  '0.015*\"machine\"'),\n",
            " (3,\n",
            "  '0.026*\"kill\" + 0.022*\"discussion\" + 0.021*\"say\" + 0.016*\"village\" + '\n",
            "  '0.014*\"woman\" + 0.013*\"soldier\" + 0.012*\"terrorist\" + 0.012*\"live\" + '\n",
            "  '0.012*\"come\" + 0.011*\"attack\"'),\n",
            " (4,\n",
            "  '0.023*\"point\" + 0.020*\"reason\" + 0.020*\"mean\" + 0.016*\"think\" + '\n",
            "  '0.015*\"argument\" + 0.014*\"explain\" + 0.014*\"exist\" + 0.013*\"thing\" + '\n",
            "  '0.013*\"say\" + 0.012*\"question\"'),\n",
            " (5,\n",
            "  '0.807*\"ax_ax\" + 0.013*\"ax\" + 0.009*\"ad\" + 0.007*\"rock\" + 0.007*\"dream\" + '\n",
            "  '0.006*\"broadcast\" + 0.006*\"catalog\" + 0.005*\"mandatory\" + 0.005*\"reconcile\" '\n",
            "  '+ 0.004*\"operator\"'),\n",
            " (6,\n",
            "  '0.040*\"team\" + 0.039*\"win\" + 0.036*\"game\" + 0.019*\"lead\" + 0.017*\"good\" + '\n",
            "  '0.016*\"year\" + 0.015*\"run\" + 0.014*\"spend\" + 0.014*\"cheap\" + '\n",
            "  '0.013*\"version\"'),\n",
            " (7,\n",
            "  '0.039*\"drive\" + 0.026*\"problem\" + 0.024*\"computer\" + 0.020*\"light\" + '\n",
            "  '0.019*\"publish\" + 0.018*\"driver\" + 0.017*\"power\" + 0.016*\"work\" + '\n",
            "  '0.016*\"instal\" + 0.016*\"black\"'),\n",
            " (8,\n",
            "  '0.031*\"think\" + 0.025*\"know\" + 0.025*\"go\" + 0.022*\"time\" + 0.022*\"people\" + '\n",
            "  '0.019*\"want\" + 0.018*\"thing\" + 0.014*\"say\" + 0.014*\"get\" + 0.013*\"sure\"'),\n",
            " (9,\n",
            "  '0.038*\"key\" + 0.029*\"use\" + 0.018*\"chip\" + 0.017*\"address\" + 0.017*\"sale\" + '\n",
            "  '0.017*\"system\" + 0.016*\"pass\" + 0.013*\"ripem\" + 0.013*\"need\" + '\n",
            "  '0.012*\"encrypt\"'),\n",
            " (10,\n",
            "  '0.022*\"value\" + 0.021*\"accept\" + 0.018*\"disk\" + 0.016*\"seller\" + '\n",
            "  '0.015*\"obviously\" + 0.014*\"basically\" + 0.013*\"weight\" + 0.013*\"mind\" + '\n",
            "  '0.013*\"put\" + 0.012*\"end\"'),\n",
            " (11,\n",
            "  '0.044*\"evidence\" + 0.035*\"believe\" + 0.030*\"claim\" + 0.020*\"child\" + '\n",
            "  '0.019*\"tell\" + 0.018*\"faith\" + 0.017*\"come\" + 0.017*\"people\" + 0.015*\"know\" '\n",
            "  '+ 0.014*\"religion\"'),\n",
            " (12,\n",
            "  '0.023*\"bike\" + 0.018*\"diagnosis\" + 0.018*\"cut\" + 0.018*\"eat\" + '\n",
            "  '0.018*\"appropriate\" + 0.017*\"shall\" + 0.017*\"tumor\" + 0.017*\"treatment\" + '\n",
            "  '0.017*\"night\" + 0.016*\"bomb\"'),\n",
            " (13,\n",
            "  '0.023*\"face\" + 0.020*\"break\" + 0.019*\"high\" + 0.019*\"trade\" + '\n",
            "  '0.018*\"increase\" + 0.017*\"particular\" + 0.015*\"avoid\" + 0.015*\"low\" + '\n",
            "  '0.013*\"edge\" + 0.012*\"cd\"'),\n",
            " (14,\n",
            "  '0.041*\"file\" + 0.035*\"program\" + 0.024*\"use\" + 0.023*\"patient\" + '\n",
            "  '0.020*\"image\" + 0.019*\"entry\" + 0.019*\"test\" + 0.016*\"solution\" + '\n",
            "  '0.013*\"number\" + 0.012*\"error\"'),\n",
            " (15,\n",
            "  '0.031*\"year\" + 0.026*\"play\" + 0.023*\"lose\" + 0.015*\"player\" + 0.014*\"time\" '\n",
            "  '+ 0.014*\"character\" + 0.013*\"hear\" + 0.013*\"season\" + 0.011*\"good\" + '\n",
            "  '0.011*\"great\"'),\n",
            " (16,\n",
            "  '0.034*\"group\" + 0.021*\"order\" + 0.021*\"atheist\" + 0.020*\"appear\" + '\n",
            "  '0.017*\"church\" + 0.014*\"soon\" + 0.014*\"field\" + 0.013*\"family\" + '\n",
            "  '0.013*\"sphere\" + 0.012*\"suspect\"'),\n",
            " (17,\n",
            "  '0.023*\"car\" + 0.021*\"sell\" + 0.019*\"price\" + 0.019*\"buy\" + 0.016*\"cost\" + '\n",
            "  '0.016*\"model\" + 0.015*\"pay\" + 0.014*\"rate\" + 0.014*\"good\" + 0.012*\"look\"'),\n",
            " (18,\n",
            "  '0.031*\"people\" + 0.029*\"sense\" + 0.018*\"state\" + 0.014*\"government\" + '\n",
            "  '0.014*\"right\" + 0.012*\"force\" + 0.012*\"truth\" + 0.012*\"death\" + '\n",
            "  '0.011*\"country\" + 0.009*\"world\"'),\n",
            " (19,\n",
            "  '0.026*\"system\" + 0.020*\"software\" + 0.017*\"space\" + 0.014*\"build\" + '\n",
            "  '0.014*\"provide\" + 0.013*\"user\" + 0.012*\"program\" + 0.012*\"technology\" + '\n",
            "  '0.011*\"cpu\" + 0.011*\"base\"')]\n",
            "-7.7552480375362425\n",
            "0.4557254358861652\n"
          ]
        }
      ]
    },
    {
      "cell_type": "code",
      "metadata": {
        "id": "BhRX2OmQI5J7"
      },
      "source": [
        ""
      ],
      "execution_count": null,
      "outputs": []
    }
  ]
}